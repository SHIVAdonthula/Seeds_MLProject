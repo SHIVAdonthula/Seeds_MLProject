{
 "cells": [
  {
   "cell_type": "markdown",
   "metadata": {},
   "source": [
    "Seed dataset , model= Logistic regression, score is 90.1%"
   ]
  },
  {
   "cell_type": "code",
   "execution_count": 1,
   "metadata": {},
   "outputs": [],
   "source": [
    "import pandas as pd"
   ]
  },
  {
   "cell_type": "code",
   "execution_count": 2,
   "metadata": {},
   "outputs": [],
   "source": [
    "df=pd.read_csv('seeds_dataset.txt',sep='\\t',names=['area','perimeter','compactness','lengthOfKernel','widthOfKernel','asymmetryCoefficient',\n",
    "                      'lengthOfKernelGroove','seedType'])"
   ]
  },
  {
   "cell_type": "code",
   "execution_count": 3,
   "metadata": {},
   "outputs": [
    {
     "data": {
      "text/html": [
       "<div>\n",
       "<style scoped>\n",
       "    .dataframe tbody tr th:only-of-type {\n",
       "        vertical-align: middle;\n",
       "    }\n",
       "\n",
       "    .dataframe tbody tr th {\n",
       "        vertical-align: top;\n",
       "    }\n",
       "\n",
       "    .dataframe thead th {\n",
       "        text-align: right;\n",
       "    }\n",
       "</style>\n",
       "<table border=\"1\" class=\"dataframe\">\n",
       "  <thead>\n",
       "    <tr style=\"text-align: right;\">\n",
       "      <th></th>\n",
       "      <th>area</th>\n",
       "      <th>perimeter</th>\n",
       "      <th>compactness</th>\n",
       "      <th>lengthOfKernel</th>\n",
       "      <th>widthOfKernel</th>\n",
       "      <th>asymmetryCoefficient</th>\n",
       "      <th>lengthOfKernelGroove</th>\n",
       "      <th>seedType</th>\n",
       "    </tr>\n",
       "  </thead>\n",
       "  <tbody>\n",
       "    <tr>\n",
       "      <td>0</td>\n",
       "      <td>15.26</td>\n",
       "      <td>14.84</td>\n",
       "      <td>0.8710</td>\n",
       "      <td>5.763</td>\n",
       "      <td>3.312</td>\n",
       "      <td>2.221</td>\n",
       "      <td>5.220</td>\n",
       "      <td>1</td>\n",
       "    </tr>\n",
       "    <tr>\n",
       "      <td>1</td>\n",
       "      <td>14.88</td>\n",
       "      <td>14.57</td>\n",
       "      <td>0.8811</td>\n",
       "      <td>5.554</td>\n",
       "      <td>3.333</td>\n",
       "      <td>1.018</td>\n",
       "      <td>4.956</td>\n",
       "      <td>1</td>\n",
       "    </tr>\n",
       "    <tr>\n",
       "      <td>2</td>\n",
       "      <td>14.29</td>\n",
       "      <td>14.09</td>\n",
       "      <td>0.9050</td>\n",
       "      <td>5.291</td>\n",
       "      <td>3.337</td>\n",
       "      <td>2.699</td>\n",
       "      <td>4.825</td>\n",
       "      <td>1</td>\n",
       "    </tr>\n",
       "    <tr>\n",
       "      <td>3</td>\n",
       "      <td>13.84</td>\n",
       "      <td>13.94</td>\n",
       "      <td>0.8955</td>\n",
       "      <td>5.324</td>\n",
       "      <td>3.379</td>\n",
       "      <td>2.259</td>\n",
       "      <td>4.805</td>\n",
       "      <td>1</td>\n",
       "    </tr>\n",
       "    <tr>\n",
       "      <td>4</td>\n",
       "      <td>16.14</td>\n",
       "      <td>14.99</td>\n",
       "      <td>0.9034</td>\n",
       "      <td>5.658</td>\n",
       "      <td>3.562</td>\n",
       "      <td>1.355</td>\n",
       "      <td>5.175</td>\n",
       "      <td>1</td>\n",
       "    </tr>\n",
       "  </tbody>\n",
       "</table>\n",
       "</div>"
      ],
      "text/plain": [
       "    area  perimeter  compactness  lengthOfKernel  widthOfKernel  \\\n",
       "0  15.26      14.84       0.8710           5.763          3.312   \n",
       "1  14.88      14.57       0.8811           5.554          3.333   \n",
       "2  14.29      14.09       0.9050           5.291          3.337   \n",
       "3  13.84      13.94       0.8955           5.324          3.379   \n",
       "4  16.14      14.99       0.9034           5.658          3.562   \n",
       "\n",
       "   asymmetryCoefficient  lengthOfKernelGroove  seedType  \n",
       "0                 2.221                 5.220         1  \n",
       "1                 1.018                 4.956         1  \n",
       "2                 2.699                 4.825         1  \n",
       "3                 2.259                 4.805         1  \n",
       "4                 1.355                 5.175         1  "
      ]
     },
     "execution_count": 3,
     "metadata": {},
     "output_type": "execute_result"
    }
   ],
   "source": [
    "df.head()"
   ]
  },
  {
   "cell_type": "code",
   "execution_count": 4,
   "metadata": {},
   "outputs": [
    {
     "data": {
      "text/plain": [
       "(210, 8)"
      ]
     },
     "execution_count": 4,
     "metadata": {},
     "output_type": "execute_result"
    }
   ],
   "source": [
    "df.shape"
   ]
  },
  {
   "cell_type": "code",
   "execution_count": 6,
   "metadata": {},
   "outputs": [
    {
     "name": "stdout",
     "output_type": "stream",
     "text": [
      "<class 'pandas.core.frame.DataFrame'>\n",
      "RangeIndex: 210 entries, 0 to 209\n",
      "Data columns (total 8 columns):\n",
      "area                    210 non-null float64\n",
      "perimeter               210 non-null float64\n",
      "compactness             210 non-null float64\n",
      "lengthOfKernel          210 non-null float64\n",
      "widthOfKernel           210 non-null float64\n",
      "asymmetryCoefficient    210 non-null float64\n",
      "lengthOfKernelGroove    210 non-null float64\n",
      "seedType                210 non-null int64\n",
      "dtypes: float64(7), int64(1)\n",
      "memory usage: 13.2 KB\n"
     ]
    }
   ],
   "source": [
    "df.info()"
   ]
  },
  {
   "cell_type": "code",
   "execution_count": 20,
   "metadata": {},
   "outputs": [
    {
     "data": {
      "text/plain": [
       "area                    0\n",
       "perimeter               0\n",
       "compactness             0\n",
       "lengthOfKernel          0\n",
       "widthOfKernel           0\n",
       "asymmetryCoefficient    0\n",
       "lengthOfKernelGroove    0\n",
       "seedType                0\n",
       "dtype: int64"
      ]
     },
     "execution_count": 20,
     "metadata": {},
     "output_type": "execute_result"
    }
   ],
   "source": [
    "df.isnull().sum()"
   ]
  },
  {
   "cell_type": "code",
   "execution_count": 7,
   "metadata": {},
   "outputs": [
    {
     "data": {
      "text/plain": [
       "3    70\n",
       "2    70\n",
       "1    70\n",
       "Name: seedType, dtype: int64"
      ]
     },
     "execution_count": 7,
     "metadata": {},
     "output_type": "execute_result"
    }
   ],
   "source": [
    "df['seedType'].value_counts()"
   ]
  },
  {
   "cell_type": "code",
   "execution_count": 8,
   "metadata": {},
   "outputs": [],
   "source": [
    "df1=df.sample(frac=1, random_state=3)"
   ]
  },
  {
   "cell_type": "code",
   "execution_count": 25,
   "metadata": {},
   "outputs": [
    {
     "data": {
      "text/html": [
       "<div>\n",
       "<style scoped>\n",
       "    .dataframe tbody tr th:only-of-type {\n",
       "        vertical-align: middle;\n",
       "    }\n",
       "\n",
       "    .dataframe tbody tr th {\n",
       "        vertical-align: top;\n",
       "    }\n",
       "\n",
       "    .dataframe thead th {\n",
       "        text-align: right;\n",
       "    }\n",
       "</style>\n",
       "<table border=\"1\" class=\"dataframe\">\n",
       "  <thead>\n",
       "    <tr style=\"text-align: right;\">\n",
       "      <th></th>\n",
       "      <th>area</th>\n",
       "      <th>perimeter</th>\n",
       "      <th>compactness</th>\n",
       "      <th>lengthOfKernel</th>\n",
       "      <th>widthOfKernel</th>\n",
       "      <th>asymmetryCoefficient</th>\n",
       "      <th>lengthOfKernelGroove</th>\n",
       "      <th>seedType</th>\n",
       "    </tr>\n",
       "  </thead>\n",
       "  <tbody>\n",
       "    <tr>\n",
       "      <td>164</td>\n",
       "      <td>11.14</td>\n",
       "      <td>12.79</td>\n",
       "      <td>0.8558</td>\n",
       "      <td>5.011</td>\n",
       "      <td>2.794</td>\n",
       "      <td>6.388</td>\n",
       "      <td>5.049</td>\n",
       "      <td>3</td>\n",
       "    </tr>\n",
       "    <tr>\n",
       "      <td>86</td>\n",
       "      <td>18.88</td>\n",
       "      <td>16.26</td>\n",
       "      <td>0.8969</td>\n",
       "      <td>6.084</td>\n",
       "      <td>3.764</td>\n",
       "      <td>1.649</td>\n",
       "      <td>6.109</td>\n",
       "      <td>2</td>\n",
       "    </tr>\n",
       "    <tr>\n",
       "      <td>122</td>\n",
       "      <td>16.17</td>\n",
       "      <td>15.38</td>\n",
       "      <td>0.8588</td>\n",
       "      <td>5.762</td>\n",
       "      <td>3.387</td>\n",
       "      <td>4.286</td>\n",
       "      <td>5.703</td>\n",
       "      <td>2</td>\n",
       "    </tr>\n",
       "    <tr>\n",
       "      <td>168</td>\n",
       "      <td>11.35</td>\n",
       "      <td>13.12</td>\n",
       "      <td>0.8291</td>\n",
       "      <td>5.176</td>\n",
       "      <td>2.668</td>\n",
       "      <td>4.337</td>\n",
       "      <td>5.132</td>\n",
       "      <td>3</td>\n",
       "    </tr>\n",
       "    <tr>\n",
       "      <td>128</td>\n",
       "      <td>20.16</td>\n",
       "      <td>17.03</td>\n",
       "      <td>0.8735</td>\n",
       "      <td>6.513</td>\n",
       "      <td>3.773</td>\n",
       "      <td>1.910</td>\n",
       "      <td>6.185</td>\n",
       "      <td>2</td>\n",
       "    </tr>\n",
       "  </tbody>\n",
       "</table>\n",
       "</div>"
      ],
      "text/plain": [
       "      area  perimeter  compactness  lengthOfKernel  widthOfKernel  \\\n",
       "164  11.14      12.79       0.8558           5.011          2.794   \n",
       "86   18.88      16.26       0.8969           6.084          3.764   \n",
       "122  16.17      15.38       0.8588           5.762          3.387   \n",
       "168  11.35      13.12       0.8291           5.176          2.668   \n",
       "128  20.16      17.03       0.8735           6.513          3.773   \n",
       "\n",
       "     asymmetryCoefficient  lengthOfKernelGroove  seedType  \n",
       "164                 6.388                 5.049         3  \n",
       "86                  1.649                 6.109         2  \n",
       "122                 4.286                 5.703         2  \n",
       "168                 4.337                 5.132         3  \n",
       "128                 1.910                 6.185         2  "
      ]
     },
     "execution_count": 25,
     "metadata": {},
     "output_type": "execute_result"
    }
   ],
   "source": [
    "df1.head()\n"
   ]
  },
  {
   "cell_type": "code",
   "execution_count": 9,
   "metadata": {},
   "outputs": [],
   "source": [
    "x=df1.drop('seedType',axis=1)\n",
    "y=df1['seedType']"
   ]
  },
  {
   "cell_type": "code",
   "execution_count": 10,
   "metadata": {},
   "outputs": [
    {
     "data": {
      "text/plain": [
       "164    3\n",
       "86     2\n",
       "122    2\n",
       "168    3\n",
       "128    2\n",
       "Name: seedType, dtype: int64"
      ]
     },
     "execution_count": 10,
     "metadata": {},
     "output_type": "execute_result"
    }
   ],
   "source": [
    "y.head()"
   ]
  },
  {
   "cell_type": "code",
   "execution_count": 11,
   "metadata": {},
   "outputs": [],
   "source": [
    "from sklearn.model_selection import train_test_split"
   ]
  },
  {
   "cell_type": "code",
   "execution_count": 12,
   "metadata": {},
   "outputs": [],
   "source": [
    "x_train,x_test,y_train,y_test=train_test_split(x,y,test_size=0.3,random_state=3)"
   ]
  },
  {
   "cell_type": "code",
   "execution_count": 14,
   "metadata": {},
   "outputs": [
    {
     "data": {
      "text/plain": [
       "(63, 7)"
      ]
     },
     "execution_count": 14,
     "metadata": {},
     "output_type": "execute_result"
    }
   ],
   "source": [
    "x_test.shape"
   ]
  },
  {
   "cell_type": "code",
   "execution_count": 15,
   "metadata": {},
   "outputs": [],
   "source": [
    "from sklearn.linear_model import LogisticRegression\n"
   ]
  },
  {
   "cell_type": "code",
   "execution_count": 16,
   "metadata": {},
   "outputs": [],
   "source": [
    "model=LogisticRegression()"
   ]
  },
  {
   "cell_type": "code",
   "execution_count": 17,
   "metadata": {},
   "outputs": [
    {
     "name": "stderr",
     "output_type": "stream",
     "text": [
      "C:\\Users\\hp\\Anaconda3\\lib\\site-packages\\sklearn\\linear_model\\logistic.py:432: FutureWarning: Default solver will be changed to 'lbfgs' in 0.22. Specify a solver to silence this warning.\n",
      "  FutureWarning)\n",
      "C:\\Users\\hp\\Anaconda3\\lib\\site-packages\\sklearn\\linear_model\\logistic.py:469: FutureWarning: Default multi_class will be changed to 'auto' in 0.22. Specify the multi_class option to silence this warning.\n",
      "  \"this warning.\", FutureWarning)\n"
     ]
    },
    {
     "data": {
      "text/plain": [
       "LogisticRegression(C=1.0, class_weight=None, dual=False, fit_intercept=True,\n",
       "                   intercept_scaling=1, l1_ratio=None, max_iter=100,\n",
       "                   multi_class='warn', n_jobs=None, penalty='l2',\n",
       "                   random_state=None, solver='warn', tol=0.0001, verbose=0,\n",
       "                   warm_start=False)"
      ]
     },
     "execution_count": 17,
     "metadata": {},
     "output_type": "execute_result"
    }
   ],
   "source": [
    "model.fit(x_train,y_train)"
   ]
  },
  {
   "cell_type": "code",
   "execution_count": 18,
   "metadata": {},
   "outputs": [
    {
     "name": "stdout",
     "output_type": "stream",
     "text": [
      "CoEff of model:  [[-0.63828455  1.61139516  0.39478562  0.56321029  1.08279251 -0.91271201\n",
      "  -3.50906138]\n",
      " [ 2.5279176  -2.29693098 -0.50009523 -1.15939649 -0.82486946  0.45010606\n",
      "   0.56942907]\n",
      " [-2.17017148  0.88156248  0.12716238  0.60211442 -0.106092    0.9607799\n",
      "   1.79136951]]\n"
     ]
    }
   ],
   "source": [
    "print(\"CoEff of model: \",model.coef_)"
   ]
  },
  {
   "cell_type": "code",
   "execution_count": 19,
   "metadata": {},
   "outputs": [
    {
     "name": "stdout",
     "output_type": "stream",
     "text": [
      "Intercept of model :  [ 0.26206426 -0.52166165  0.21777304]\n"
     ]
    }
   ],
   "source": [
    "print(\"Intercept of model : \",model.intercept_)"
   ]
  },
  {
   "cell_type": "code",
   "execution_count": 20,
   "metadata": {},
   "outputs": [],
   "source": [
    "predict_train=model.predict(x_train)"
   ]
  },
  {
   "cell_type": "code",
   "execution_count": 21,
   "metadata": {},
   "outputs": [
    {
     "name": "stdout",
     "output_type": "stream",
     "text": [
      "target on train data  [2 3 3 2 1 1 2 2 3 2 2 1 1 1 3 3 2 1 2 3 1 1 1 1 3 2 1 2 1 1 2 1 3 2 1 2 3\n",
      " 1 1 3 1 3 1 3 3 3 3 2 2 3 2 3 1 2 1 2 2 3 1 3 1 3 2 3 2 2 3 2 3 2 1 3 1 2\n",
      " 1 1 2 3 2 1 2 3 1 3 1 2 3 3 3 2 1 2 2 3 2 1 1 3 2 1 1 3 3 3 3 2 2 2 2 1 3\n",
      " 3 3 2 2 1 3 1 1 1 2 3 1 2 1 2 2 1 3 1 3 3 3 2 1 2 3 2 2 2 3 3 3 2 1 2 3]\n"
     ]
    }
   ],
   "source": [
    "print(\"target on train data \",predict_train)"
   ]
  },
  {
   "cell_type": "code",
   "execution_count": 22,
   "metadata": {},
   "outputs": [],
   "source": [
    "from sklearn.metrics import accuracy_score\n"
   ]
  },
  {
   "cell_type": "code",
   "execution_count": 23,
   "metadata": {},
   "outputs": [
    {
     "name": "stdout",
     "output_type": "stream",
     "text": [
      "accuracy score of train data  0.9387755102040817\n"
     ]
    }
   ],
   "source": [
    "accuracy_train=accuracy_score(y_train,predict_train)\n",
    "print(\"accuracy score of train data \",accuracy_train)"
   ]
  },
  {
   "cell_type": "code",
   "execution_count": 24,
   "metadata": {},
   "outputs": [],
   "source": [
    "predict_test=model.predict(x_test)"
   ]
  },
  {
   "cell_type": "code",
   "execution_count": 25,
   "metadata": {},
   "outputs": [
    {
     "data": {
      "text/plain": [
       "(63, 7)"
      ]
     },
     "execution_count": 25,
     "metadata": {},
     "output_type": "execute_result"
    }
   ],
   "source": [
    "x_test.shape"
   ]
  },
  {
   "cell_type": "code",
   "execution_count": 26,
   "metadata": {},
   "outputs": [
    {
     "name": "stdout",
     "output_type": "stream",
     "text": [
      "target on test data  [3 2 3 2 1 3 1 2 3 1 2 3 2 1 2 2 3 1 1 2 2 1 1 3 2 3 1 1 2 1 1 3 3 2 2 1 3\n",
      " 3 2 2 3 2 1 2 1 1 1 3 3 3 2 1 3 1 3 1 3 2 2 1 2 2 3]\n"
     ]
    }
   ],
   "source": [
    "print(\"target on test data \",predict_test)"
   ]
  },
  {
   "cell_type": "code",
   "execution_count": 27,
   "metadata": {},
   "outputs": [],
   "source": [
    "accuracy_test=accuracy_score(y_test,predict_test)"
   ]
  },
  {
   "cell_type": "code",
   "execution_count": 28,
   "metadata": {},
   "outputs": [
    {
     "name": "stdout",
     "output_type": "stream",
     "text": [
      "accuracy score of test data for model 0.9047619047619048\n"
     ]
    }
   ],
   "source": [
    "print(\"accuracy score of test data for model\",accuracy_test)"
   ]
  },
  {
   "cell_type": "code",
   "execution_count": null,
   "metadata": {},
   "outputs": [],
   "source": []
  },
  {
   "cell_type": "code",
   "execution_count": null,
   "metadata": {},
   "outputs": [],
   "source": []
  },
  {
   "cell_type": "code",
   "execution_count": null,
   "metadata": {},
   "outputs": [],
   "source": []
  },
  {
   "cell_type": "code",
   "execution_count": null,
   "metadata": {},
   "outputs": [],
   "source": []
  }
 ],
 "metadata": {
  "kernelspec": {
   "display_name": "Python 3",
   "language": "python",
   "name": "python3"
  },
  "language_info": {
   "codemirror_mode": {
    "name": "ipython",
    "version": 3
   },
   "file_extension": ".py",
   "mimetype": "text/x-python",
   "name": "python",
   "nbconvert_exporter": "python",
   "pygments_lexer": "ipython3",
   "version": "3.7.4"
  }
 },
 "nbformat": 4,
 "nbformat_minor": 2
}
